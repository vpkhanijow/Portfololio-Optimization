{
 "cells": [
  {
   "cell_type": "code",
   "execution_count": 1,
   "metadata": {},
   "outputs": [],
   "source": [
    "import pandas as pd\n",
    "from datetime import datetime\n",
    "import math\n",
    "import warnings\n",
    "import numpy as np\n",
    "import matplotlib.pyplot as plt\n",
    "warnings.filterwarnings('ignore')"
   ]
  },
  {
   "cell_type": "code",
   "execution_count": 2,
   "metadata": {},
   "outputs": [
    {
     "data": {
      "text/html": [
       "<div>\n",
       "<style scoped>\n",
       "    .dataframe tbody tr th:only-of-type {\n",
       "        vertical-align: middle;\n",
       "    }\n",
       "\n",
       "    .dataframe tbody tr th {\n",
       "        vertical-align: top;\n",
       "    }\n",
       "\n",
       "    .dataframe thead th {\n",
       "        text-align: right;\n",
       "    }\n",
       "</style>\n",
       "<table border=\"1\" class=\"dataframe\">\n",
       "  <thead>\n",
       "    <tr style=\"text-align: right;\">\n",
       "      <th>ticker</th>\n",
       "      <th>ITE</th>\n",
       "      <th>SSO</th>\n",
       "      <th>VNQ</th>\n",
       "      <th>VWO</th>\n",
       "      <th>WIP</th>\n",
       "    </tr>\n",
       "    <tr>\n",
       "      <th>caldt</th>\n",
       "      <th></th>\n",
       "      <th></th>\n",
       "      <th></th>\n",
       "      <th></th>\n",
       "      <th></th>\n",
       "    </tr>\n",
       "  </thead>\n",
       "  <tbody>\n",
       "    <tr>\n",
       "      <th>20081231</th>\n",
       "      <td>59.2117</td>\n",
       "      <td>26.50</td>\n",
       "      <td>36.50</td>\n",
       "      <td>23.56</td>\n",
       "      <td>47.3077</td>\n",
       "    </tr>\n",
       "    <tr>\n",
       "      <th>20090102</th>\n",
       "      <td>58.8422</td>\n",
       "      <td>28.17</td>\n",
       "      <td>35.35</td>\n",
       "      <td>24.50</td>\n",
       "      <td>47.6568</td>\n",
       "    </tr>\n",
       "    <tr>\n",
       "      <th>20090105</th>\n",
       "      <td>58.8675</td>\n",
       "      <td>27.92</td>\n",
       "      <td>34.53</td>\n",
       "      <td>25.02</td>\n",
       "      <td>46.9809</td>\n",
       "    </tr>\n",
       "    <tr>\n",
       "      <th>20090106</th>\n",
       "      <td>58.8461</td>\n",
       "      <td>28.35</td>\n",
       "      <td>36.49</td>\n",
       "      <td>25.45</td>\n",
       "      <td>46.7291</td>\n",
       "    </tr>\n",
       "    <tr>\n",
       "      <th>20090107</th>\n",
       "      <td>58.8968</td>\n",
       "      <td>26.68</td>\n",
       "      <td>35.08</td>\n",
       "      <td>24.33</td>\n",
       "      <td>47.2719</td>\n",
       "    </tr>\n",
       "  </tbody>\n",
       "</table>\n",
       "</div>"
      ],
      "text/plain": [
       "ticker        ITE    SSO    VNQ    VWO      WIP\n",
       "caldt                                          \n",
       "20081231  59.2117  26.50  36.50  23.56  47.3077\n",
       "20090102  58.8422  28.17  35.35  24.50  47.6568\n",
       "20090105  58.8675  27.92  34.53  25.02  46.9809\n",
       "20090106  58.8461  28.35  36.49  25.45  46.7291\n",
       "20090107  58.8968  26.68  35.08  24.33  47.2719"
      ]
     },
     "execution_count": 2,
     "metadata": {},
     "output_type": "execute_result"
    }
   ],
   "source": [
    "df = pd.read_csv('ETF data.csv')\n",
    "pivot_table = pd.pivot_table(df, index = 'caldt', columns = 'crsp_fundno', values = 'dnav')\n",
    "df3 = df.groupby(['caldt', 'ticker'])['dnav'].sum().unstack()\n",
    "df3.head()"
   ]
  },
  {
   "cell_type": "markdown",
   "metadata": {},
   "source": [
    "# Metrics and Plots by Asset Class"
   ]
  },
  {
   "cell_type": "markdown",
   "metadata": {},
   "source": [
    "## SSO"
   ]
  },
  {
   "cell_type": "code",
   "execution_count": 17,
   "metadata": {},
   "outputs": [
    {
     "data": {
      "text/html": [
       "<div>\n",
       "<style scoped>\n",
       "    .dataframe tbody tr th:only-of-type {\n",
       "        vertical-align: middle;\n",
       "    }\n",
       "\n",
       "    .dataframe tbody tr th {\n",
       "        vertical-align: top;\n",
       "    }\n",
       "\n",
       "    .dataframe thead th {\n",
       "        text-align: right;\n",
       "    }\n",
       "</style>\n",
       "<table border=\"1\" class=\"dataframe\">\n",
       "  <thead>\n",
       "    <tr style=\"text-align: right;\">\n",
       "      <th></th>\n",
       "      <th>ticker</th>\n",
       "      <th>crsp_fundno</th>\n",
       "      <th>caldt</th>\n",
       "      <th>dnav</th>\n",
       "      <th>dret</th>\n",
       "      <th>year</th>\n",
       "      <th>month</th>\n",
       "      <th>forCalculations</th>\n",
       "    </tr>\n",
       "  </thead>\n",
       "  <tbody>\n",
       "    <tr>\n",
       "      <th>1525</th>\n",
       "      <td>SSO</td>\n",
       "      <td>25653</td>\n",
       "      <td>2008-12-31</td>\n",
       "      <td>26.50</td>\n",
       "      <td>0.028727</td>\n",
       "      <td>2008</td>\n",
       "      <td>2008-12</td>\n",
       "      <td>NaN</td>\n",
       "    </tr>\n",
       "    <tr>\n",
       "      <th>1496</th>\n",
       "      <td>SSO</td>\n",
       "      <td>25653</td>\n",
       "      <td>2009-01-02</td>\n",
       "      <td>28.17</td>\n",
       "      <td>0.063019</td>\n",
       "      <td>2009</td>\n",
       "      <td>2009-01</td>\n",
       "      <td>0.063019</td>\n",
       "    </tr>\n",
       "    <tr>\n",
       "      <th>1519</th>\n",
       "      <td>SSO</td>\n",
       "      <td>25653</td>\n",
       "      <td>2009-01-05</td>\n",
       "      <td>27.92</td>\n",
       "      <td>-0.008875</td>\n",
       "      <td>2009</td>\n",
       "      <td>2009-01</td>\n",
       "      <td>-0.008875</td>\n",
       "    </tr>\n",
       "    <tr>\n",
       "      <th>2441</th>\n",
       "      <td>SSO</td>\n",
       "      <td>25653</td>\n",
       "      <td>2009-01-06</td>\n",
       "      <td>28.35</td>\n",
       "      <td>0.015401</td>\n",
       "      <td>2009</td>\n",
       "      <td>2009-01</td>\n",
       "      <td>0.015401</td>\n",
       "    </tr>\n",
       "    <tr>\n",
       "      <th>1495</th>\n",
       "      <td>SSO</td>\n",
       "      <td>25653</td>\n",
       "      <td>2009-01-07</td>\n",
       "      <td>26.68</td>\n",
       "      <td>-0.058907</td>\n",
       "      <td>2009</td>\n",
       "      <td>2009-01</td>\n",
       "      <td>-0.058907</td>\n",
       "    </tr>\n",
       "  </tbody>\n",
       "</table>\n",
       "</div>"
      ],
      "text/plain": [
       "     ticker  crsp_fundno      caldt   dnav      dret  year    month  \\\n",
       "1525    SSO        25653 2008-12-31  26.50  0.028727  2008  2008-12   \n",
       "1496    SSO        25653 2009-01-02  28.17  0.063019  2009  2009-01   \n",
       "1519    SSO        25653 2009-01-05  27.92 -0.008875  2009  2009-01   \n",
       "2441    SSO        25653 2009-01-06  28.35  0.015401  2009  2009-01   \n",
       "1495    SSO        25653 2009-01-07  26.68 -0.058907  2009  2009-01   \n",
       "\n",
       "      forCalculations  \n",
       "1525              NaN  \n",
       "1496         0.063019  \n",
       "1519        -0.008875  \n",
       "2441         0.015401  \n",
       "1495        -0.058907  "
      ]
     },
     "execution_count": 17,
     "metadata": {},
     "output_type": "execute_result"
    }
   ],
   "source": [
    "df_SSO = df[df['ticker'] == 'SSO']\n",
    "df_SSO['caldt'] = pd.to_datetime(df_SSO['caldt'], format = '%Y%m%d')\n",
    "df_SSO.sort_values('caldt', inplace=True)\n",
    "df_SSO['year'] = df_SSO['caldt'].dt.to_period('Y').astype(str)\n",
    "df_SSO['month'] = df_SSO['caldt'].dt.to_period('m').astype(str)\n",
    "df_SSO['dnav']=np.where(df_SSO['caldt']>=\"5/19/2015\", df_SSO['dnav']*2, df_SSO['dnav'])\n",
    "\n",
    "df_SSO['forCalculations'] = (df_SSO['dnav'] - df_SSO['dnav'].shift(1))/df_SSO['dnav'].shift(1) + 1\n",
    "'''After looking at the data, we noticed that there was a strange drop in dnav on May 20, 2015.\n",
    "We found out that this is becuase the fund split its shares 2:1, so in order to correct this we doubled the dnav of\n",
    "all shares after this date. In essense, after the date we are measuring the return of a person owning two shares\n",
    "as opposed to one.'''\n",
    "df_SSO.head()"
   ]
  },
  {
   "cell_type": "code",
   "execution_count": 4,
   "metadata": {},
   "outputs": [],
   "source": [
    "# Fixing the split in shares\n",
    "df_SSO['dnav']=np.where(df_SSO['caldt']>=\"5/19/2015\", df_SSO['dnav']*2, df_SSO['dnav'])"
   ]
  },
  {
   "cell_type": "code",
   "execution_count": 11,
   "metadata": {},
   "outputs": [
    {
     "data": {
      "text/plain": [
       "0.21480094567801178"
      ]
     },
     "execution_count": 11,
     "metadata": {},
     "output_type": "execute_result"
    }
   ],
   "source": [
    "# Annualized return\n",
    "df_SSO = df_SSO.fillna(1)\n",
    "cum_return = df_SSO['forCalculations'].prod()\n",
    "cum_return**(1/10.0) - 1"
   ]
  },
  {
   "cell_type": "code",
   "execution_count": 12,
   "metadata": {},
   "outputs": [
    {
     "data": {
      "text/plain": [
       "0.3329624481790537"
      ]
     },
     "execution_count": 12,
     "metadata": {},
     "output_type": "execute_result"
    }
   ],
   "source": [
    "# Annualized Standard Deviation\n",
    "df_SSO['forCalculations'].std()*math.sqrt(252)"
   ]
  },
  {
   "cell_type": "code",
   "execution_count": 14,
   "metadata": {},
   "outputs": [
    {
     "data": {
      "text/plain": [
       "0.6451206340316809"
      ]
     },
     "execution_count": 14,
     "metadata": {},
     "output_type": "execute_result"
    }
   ],
   "source": [
    "# Sharpe Ratio\n",
    "(cum_return**(1/10.0) - 1) / (df_SSO['forCalculations'].std()*math.sqrt(252))"
   ]
  },
  {
   "cell_type": "code",
   "execution_count": 18,
   "metadata": {},
   "outputs": [
    {
     "data": {
      "text/plain": [
       "-0.21379889166253846"
      ]
     },
     "execution_count": 18,
     "metadata": {},
     "output_type": "execute_result"
    }
   ],
   "source": [
    "#Skewness\n",
    "df_SSO['forCalculations'].skew()"
   ]
  },
  {
   "cell_type": "code",
   "execution_count": 8,
   "metadata": {},
   "outputs": [],
   "source": [
    "# Creating a column of cumulative returns\n",
    "def function(x):\n",
    "    if x == 100:\n",
    "        return 100\n",
    "    else:\n",
    "        return df_SSO['forCalculations'].iloc[:x+1].prod()*100\n",
    "    \n",
    "df_SSO.reset_index(inplace=True)\n",
    "df_SSO['forCalculations'] = df_SSO['forCalculations'].fillna(1)\n",
    "df_SSO['cumulative returns'] = df_SSO.index.values\n",
    "df_SSO['cumulative returns'].iloc[0] = 100\n",
    "\n",
    "df_SSO['cumulative returns'] = df_SSO['cumulative returns'].apply(function)"
   ]
  },
  {
   "cell_type": "code",
   "execution_count": 50,
   "metadata": {
    "collapsed": true
   },
   "outputs": [
    {
     "data": {
      "text/plain": [
       "Text(0.5, 1.0, 'SSO')"
      ]
     },
     "execution_count": 50,
     "metadata": {},
     "output_type": "execute_result"
    },
    {
     "data": {
      "image/png": "[encoded data removed]",
      "text/plain": [
       "<Figure size 432x288 with 1 Axes>"
      ]
     },
     "metadata": {
      "needs_background": "light"
     },
     "output_type": "display_data"
    }
   ],
   "source": [
    "# Plotting cumulative returns\n",
    "df_SSO = df_SSO.set_index('caldt')\n",
    "df_SSO['cumulative returns'].plot()\n",
    "plt.ylabel(\"Cumulative Returns\")\n",
    "plt.xlabel(\"Date\")\n",
    "plt.title('SSO')"
   ]
  },
  {
   "cell_type": "markdown",
   "metadata": {},
   "source": [
    "## VWO"
   ]
  },
  {
   "cell_type": "code",
   "execution_count": 25,
   "metadata": {},
   "outputs": [],
   "source": [
    "df_VWO = df[df['ticker'] == 'VWO']\n",
    "df_VWO['caldt'] = pd.to_datetime(df_VWO['caldt'], format = '%Y%m%d')\n",
    "df_VWO.sort_values('caldt', inplace=True)\n",
    "df_VWO['year'] = df_VWO['caldt'].dt.to_period('Y').astype(str)\n",
    "df_VWO['month'] = df_VWO['caldt'].dt.to_period('m').astype(str)\n",
    "df_VWO['forCalculations'] = (df_VWO['dnav'] - df_VWO['dnav'].shift(1))/df_VWO['dnav'].shift(1) + 1"
   ]
  },
  {
   "cell_type": "code",
   "execution_count": 27,
   "metadata": {},
   "outputs": [
    {
     "data": {
      "text/plain": [
       "0.04946041956005742"
      ]
     },
     "execution_count": 27,
     "metadata": {},
     "output_type": "execute_result"
    }
   ],
   "source": [
    "# Annualized return\n",
    "df_VWO = df_VWO.fillna(1)\n",
    "cum_return1 = df_VWO['forCalculations'].prod()\n",
    "cum_return1**(1/10.0) - 1"
   ]
  },
  {
   "cell_type": "code",
   "execution_count": 28,
   "metadata": {},
   "outputs": [
    {
     "data": {
      "text/plain": [
       "0.19547540957135234"
      ]
     },
     "execution_count": 28,
     "metadata": {},
     "output_type": "execute_result"
    }
   ],
   "source": [
    "# Annualized Standard Deviation\n",
    "df_VWO['forCalculations'].std()*math.sqrt(252)"
   ]
  },
  {
   "cell_type": "code",
   "execution_count": 29,
   "metadata": {},
   "outputs": [
    {
     "data": {
      "text/plain": [
       "0.2530262996686721"
      ]
     },
     "execution_count": 29,
     "metadata": {},
     "output_type": "execute_result"
    }
   ],
   "source": [
    "# Sharpe Ratio\n",
    "(cum_return1**(1/10.0) - 1) / (df_VWO['forCalculations'].std()*math.sqrt(252))"
   ]
  },
  {
   "cell_type": "code",
   "execution_count": 30,
   "metadata": {},
   "outputs": [
    {
     "data": {
      "text/plain": [
       "-0.06608619656977978"
      ]
     },
     "execution_count": 30,
     "metadata": {},
     "output_type": "execute_result"
    }
   ],
   "source": [
    "#Skewness\n",
    "df_VWO['forCalculations'].skew()"
   ]
  },
  {
   "cell_type": "code",
   "execution_count": 31,
   "metadata": {},
   "outputs": [],
   "source": [
    "# Creating a column for cumulative returns\n",
    "def function1(x):\n",
    "    if x == 100:\n",
    "        return 100\n",
    "    else:\n",
    "        return df_VWO['forCalculations'].iloc[:x+1].prod()*100\n",
    "    \n",
    "df_VWO.reset_index(inplace=True)\n",
    "df_VWO['forCalculations'] = df_VWO['forCalculations'].fillna(1)\n",
    "df_VWO['cumulative returns'] = df_VWO.index.values\n",
    "df_VWO['cumulative returns'].iloc[0] = 100\n",
    "\n",
    "df_VWO['cumulative returns'] = df_VWO['cumulative returns'].apply(function1)"
   ]
  },
  {
   "cell_type": "code",
   "execution_count": 32,
   "metadata": {},
   "outputs": [
    {
     "data": {
      "text/plain": [
       "Text(0.5,1,'VWO')"
      ]
     },
     "execution_count": 32,
     "metadata": {},
     "output_type": "execute_result"
    },
    {
     "data": {
      "image/png": "[encoded data removed]",
      "text/plain": [
       "<Figure size 432x288 with 1 Axes>"
      ]
     },
     "metadata": {
      "needs_background": "light"
     },
     "output_type": "display_data"
    }
   ],
   "source": [
    "# Plotting cumulative returns\n",
    "df_VWO = df_VWO.set_index('caldt')\n",
    "df_VWO['cumulative returns'].plot()\n",
    "plt.ylabel(\"Cumulative Returns\")\n",
    "plt.xlabel(\"Date\")\n",
    "plt.title('VWO')"
   ]
  },
  {
   "cell_type": "markdown",
   "metadata": {},
   "source": [
    "## ITE"
   ]
  },
  {
   "cell_type": "code",
   "execution_count": 33,
   "metadata": {},
   "outputs": [],
   "source": [
    "df_ITE = df[df['ticker'] == 'ITE']\n",
    "df_ITE['caldt'] = pd.to_datetime(df_ITE['caldt'], format = '%Y%m%d')\n",
    "df_ITE.sort_values('caldt', inplace=True)\n",
    "df_ITE['year'] = df_ITE['caldt'].dt.to_period('Y').astype(str)\n",
    "df_ITE['month'] = df_ITE['caldt'].dt.to_period('m').astype(str)\n",
    "df_ITE['forCalculations'] = (df_ITE['dnav'] - df_ITE['dnav'].shift(1))/df_ITE['dnav'].shift(1) + 1"
   ]
  },
  {
   "cell_type": "code",
   "execution_count": 34,
   "metadata": {},
   "outputs": [
    {
     "data": {
      "text/plain": [
       "0.00028319764690798443"
      ]
     },
     "execution_count": 34,
     "metadata": {},
     "output_type": "execute_result"
    }
   ],
   "source": [
    "# Annualized return\n",
    "df_ITE = df_ITE.fillna(1)\n",
    "cum_return2 = df_ITE['forCalculations'].prod()\n",
    "cum_return2**(1/10.0) - 1"
   ]
  },
  {
   "cell_type": "code",
   "execution_count": 35,
   "metadata": {},
   "outputs": [
    {
     "data": {
      "text/plain": [
       "0.028396192972341302"
      ]
     },
     "execution_count": 35,
     "metadata": {},
     "output_type": "execute_result"
    }
   ],
   "source": [
    "# Annualized Standard Deviation\n",
    "df_ITE['forCalculations'].std()*math.sqrt(252)"
   ]
  },
  {
   "cell_type": "code",
   "execution_count": 36,
   "metadata": {},
   "outputs": [
    {
     "data": {
      "text/plain": [
       "0.00997308502529994"
      ]
     },
     "execution_count": 36,
     "metadata": {},
     "output_type": "execute_result"
    }
   ],
   "source": [
    "# Sharpe ratio\n",
    "(cum_return2**(1/10.0) - 1) / (df_ITE['forCalculations'].std()*math.sqrt(252))"
   ]
  },
  {
   "cell_type": "code",
   "execution_count": 37,
   "metadata": {},
   "outputs": [
    {
     "data": {
      "text/plain": [
       "0.13497472174943057"
      ]
     },
     "execution_count": 37,
     "metadata": {},
     "output_type": "execute_result"
    }
   ],
   "source": [
    "#Skewness\n",
    "df_ITE['forCalculations'].skew()"
   ]
  },
  {
   "cell_type": "code",
   "execution_count": 27,
   "metadata": {},
   "outputs": [],
   "source": [
    "# Creating a column for cumulative returns\n",
    "def function2(x):\n",
    "    if x == 100:\n",
    "        return 100\n",
    "    else:\n",
    "        return df_ITE['forCalculations'].iloc[:x+1].prod()*100\n",
    "df_ITE.reset_index(inplace=True)\n",
    "df_ITE['forCalculations'] = df_ITE['forCalculations'].fillna(1)\n",
    "df_ITE['cumulative returns'] = df_ITE.index.values\n",
    "df_ITE['cumulative returns'].iloc[0] = 100\n",
    "\n",
    "df_ITE['cumulative returns'] = df_ITE['cumulative returns'].apply(function2)"
   ]
  },
  {
   "cell_type": "code",
   "execution_count": 28,
   "metadata": {},
   "outputs": [
    {
     "data": {
      "text/plain": [
       "Text(0.5, 1.0, 'ITE')"
      ]
     },
     "execution_count": 28,
     "metadata": {},
     "output_type": "execute_result"
    },
    {
     "data": {
      "image/png": "[encoded data removed]",
      "text/plain": [
       "<Figure size 432x288 with 1 Axes>"
      ]
     },
     "metadata": {
      "needs_background": "light"
     },
     "output_type": "display_data"
    }
   ],
   "source": [
    "# Plotting cumulative returns\n",
    "df_ITE = df_ITE.set_index('caldt')\n",
    "df_ITE['cumulative returns'].plot()\n",
    "plt.ylabel(\"Cumulative Returns\")\n",
    "plt.xlabel(\"Date\")\n",
    "plt.title('ITE')"
   ]
  },
  {
   "cell_type": "markdown",
   "metadata": {},
   "source": [
    "## WIP"
   ]
  },
  {
   "cell_type": "code",
   "execution_count": 38,
   "metadata": {},
   "outputs": [],
   "source": [
    "df_WIP = df[df['ticker'] == 'WIP']\n",
    "df_WIP['caldt'] = pd.to_datetime(df_WIP['caldt'], format = '%Y%m%d')\n",
    "df_WIP.sort_values('caldt', inplace=True)\n",
    "df_WIP['year'] = df_WIP['caldt'].dt.to_period('Y').astype(str)\n",
    "df_WIP['month'] = df_WIP['caldt'].dt.to_period('m').astype(str)\n",
    "df_WIP['forCalculations'] = (df_WIP['dnav'] - df_WIP['dnav'].shift(1))/df_WIP['dnav'].shift(1) + 1"
   ]
  },
  {
   "cell_type": "code",
   "execution_count": 40,
   "metadata": {},
   "outputs": [
    {
     "data": {
      "text/plain": [
       "0.009739100075747853"
      ]
     },
     "execution_count": 40,
     "metadata": {},
     "output_type": "execute_result"
    }
   ],
   "source": [
    "# Annualized return\n",
    "df_WIP = df_WIP.fillna(1)\n",
    "cum_return3 = df_WIP['forCalculations'].prod()\n",
    "cum_return3**(1/10.0) - 1"
   ]
  },
  {
   "cell_type": "code",
   "execution_count": 41,
   "metadata": {},
   "outputs": [
    {
     "data": {
      "text/plain": [
       "0.08770004164871807"
      ]
     },
     "execution_count": 41,
     "metadata": {},
     "output_type": "execute_result"
    }
   ],
   "source": [
    "# Annualized Standard Deviation\n",
    "df_WIP['forCalculations'].std()*math.sqrt(252)"
   ]
  },
  {
   "cell_type": "code",
   "execution_count": 42,
   "metadata": {},
   "outputs": [
    {
     "data": {
      "text/plain": [
       "0.11105011916365733"
      ]
     },
     "execution_count": 42,
     "metadata": {},
     "output_type": "execute_result"
    }
   ],
   "source": [
    "# Sharpe Ratio\n",
    "(cum_return3**(1/10.0) - 1) / (df_WIP['forCalculations'].std()*math.sqrt(252))"
   ]
  },
  {
   "cell_type": "code",
   "execution_count": 44,
   "metadata": {},
   "outputs": [
    {
     "data": {
      "text/plain": [
       "0.1117062386504679"
      ]
     },
     "execution_count": 44,
     "metadata": {},
     "output_type": "execute_result"
    }
   ],
   "source": [
    "#Skewness\n",
    "df_WIP['forCalculations'].skew()"
   ]
  },
  {
   "cell_type": "code",
   "execution_count": 33,
   "metadata": {},
   "outputs": [],
   "source": [
    "# Creating a column for cumulative returns\n",
    "def function3(x):\n",
    "    if x == 100:\n",
    "        return 100\n",
    "    else:\n",
    "        return df_WIP['forCalculations'].iloc[:x+1].prod()*100\n",
    "    \n",
    "df_WIP.reset_index(inplace=True)\n",
    "df_WIP['forCalculations'] = df_WIP['forCalculations'].fillna(1)\n",
    "df_WIP['cumulative returns'] = df_WIP.index.values\n",
    "df_WIP['cumulative returns'].iloc[0] = 100\n",
    "\n",
    "df_WIP['cumulative returns'] = df_WIP['cumulative returns'].apply(function3)"
   ]
  },
  {
   "cell_type": "code",
   "execution_count": 34,
   "metadata": {},
   "outputs": [
    {
     "data": {
      "text/plain": [
       "Text(0.5, 1.0, 'WIP')"
      ]
     },
     "execution_count": 34,
     "metadata": {},
     "output_type": "execute_result"
    },
    {
     "data": {
      "image/png": "[encoded data removed]",
      "text/plain": [
       "<Figure size 432x288 with 1 Axes>"
      ]
     },
     "metadata": {
      "needs_background": "light"
     },
     "output_type": "display_data"
    }
   ],
   "source": [
    "# Plotting cumulative returns\n",
    "df_WIP = df_WIP.set_index('caldt')\n",
    "df_WIP['cumulative returns'].plot()\n",
    "plt.ylabel(\"Cumulative Returns\")\n",
    "plt.xlabel(\"Date\")\n",
    "plt.title('WIP')"
   ]
  },
  {
   "cell_type": "markdown",
   "metadata": {},
   "source": [
    "## VNQ"
   ]
  },
  {
   "cell_type": "code",
   "execution_count": 51,
   "metadata": {},
   "outputs": [],
   "source": [
    "df_VNQ = df[df['ticker'] == 'VNQ']\n",
    "df_VNQ['caldt'] = pd.to_datetime(df_VNQ['caldt'], format = '%Y%m%d')\n",
    "df_VNQ.sort_values('caldt', inplace=True)\n",
    "df_VNQ['year'] = df_VNQ['caldt'].dt.to_period('Y').astype(str)\n",
    "df_VNQ['month'] = df_VNQ['caldt'].dt.to_period('m').astype(str)\n",
    "df_VNQ['forCalculations'] = (df_VNQ['dnav'] - df_VNQ['dnav'].shift(1))/df_VNQ['dnav'].shift(1) + 1"
   ]
  },
  {
   "cell_type": "code",
   "execution_count": 47,
   "metadata": {},
   "outputs": [
    {
     "data": {
      "text/plain": [
       "0.07408530352965759"
      ]
     },
     "execution_count": 47,
     "metadata": {},
     "output_type": "execute_result"
    }
   ],
   "source": [
    "df_VNQ = df_VNQ.fillna(1)\n",
    "cum_return4 = df_VNQ['forCalculations'].prod()\n",
    "cum_return4**(1/10.0) - 1"
   ]
  },
  {
   "cell_type": "code",
   "execution_count": 48,
   "metadata": {},
   "outputs": [
    {
     "data": {
      "text/plain": [
       "0.2781472499545762"
      ]
     },
     "execution_count": 48,
     "metadata": {},
     "output_type": "execute_result"
    }
   ],
   "source": [
    "# Annualized Standard Deviation\n",
    "df_VNQ['forCalculations'].std()*math.sqrt(252)"
   ]
  },
  {
   "cell_type": "code",
   "execution_count": 49,
   "metadata": {},
   "outputs": [
    {
     "data": {
      "text/plain": [
       "0.2663528168686059"
      ]
     },
     "execution_count": 49,
     "metadata": {},
     "output_type": "execute_result"
    }
   ],
   "source": [
    "# Sharpe Ratio\n",
    "(cum_return4**(1/10.0) - 1) / (df_VNQ['forCalculations'].std()*math.sqrt(252))"
   ]
  },
  {
   "cell_type": "code",
   "execution_count": 52,
   "metadata": {},
   "outputs": [
    {
     "data": {
      "text/plain": [
       "0.6146760798014225"
      ]
     },
     "execution_count": 52,
     "metadata": {},
     "output_type": "execute_result"
    }
   ],
   "source": [
    "#Skewness\n",
    "df_VNQ['forCalculations'].skew()"
   ]
  },
  {
   "cell_type": "code",
   "execution_count": 39,
   "metadata": {},
   "outputs": [],
   "source": [
    "# Creating a column for cumulative returns\n",
    "def function4(x):\n",
    "    if x == 100:\n",
    "        return 100\n",
    "    else:\n",
    "        return df_VNQ['forCalculations'].iloc[:x+1].prod()*100\n",
    "\n",
    "df_VNQ.reset_index(inplace=True)\n",
    "df_VNQ['forCalculations'] = df_VNQ['forCalculations'].fillna(1)\n",
    "df_VNQ['cumulative returns'] = df_VNQ.index.values\n",
    "df_VNQ['cumulative returns'].iloc[0] = 100\n",
    "\n",
    "df_VNQ['cumulative returns'] = df_VNQ['cumulative returns'].apply(function4)\n"
   ]
  },
  {
   "cell_type": "code",
   "execution_count": 40,
   "metadata": {},
   "outputs": [
    {
     "data": {
      "text/plain": [
       "Text(0.5, 1.0, 'VNQ')"
      ]
     },
     "execution_count": 40,
     "metadata": {},
     "output_type": "execute_result"
    },
    {
     "data": {
      "image/png": "[encoded data removed]",
      "text/plain": [
       "<Figure size 432x288 with 1 Axes>"
      ]
     },
     "metadata": {
      "needs_background": "light"
     },
     "output_type": "display_data"
    }
   ],
   "source": [
    "# Plotting cumulative returns\n",
    "df_VNQ = df_VNQ.set_index('caldt')\n",
    "df_VNQ['cumulative returns'].plot()\n",
    "plt.ylabel(\"Cumulative Returns\")\n",
    "plt.xlabel(\"Date\")\n",
    "plt.title('VNQ')"
   ]
  },
  {
   "cell_type": "code",
   "execution_count": 69,
   "metadata": {},
   "outputs": [
    {
     "data": {
      "text/plain": [
       "<matplotlib.legend.Legend at 0x2a451574d30>"
      ]
     },
     "execution_count": 69,
     "metadata": {},
     "output_type": "execute_result"
    },
    {
     "data": {
      "image/png": "[encoded data removed]",
      "text/plain": [
       "<Figure size 432x288 with 1 Axes>"
      ]
     },
     "metadata": {
      "needs_background": "light"
     },
     "output_type": "display_data"
    }
   ],
   "source": [
    "df_SSO['cumulative returns'].plot()\n",
    "df_VWO['cumulative returns'].plot()\n",
    "df_ITE['cumulative returns'].plot()\n",
    "df_WIP['cumulative returns'].plot()\n",
    "df_VNQ['cumulative returns'].plot()\n",
    "plt.ylabel(\"Cumulative Returns\")\n",
    "plt.xlabel(\"Date\")\n",
    "plt.title('Return by Asset Class')\n",
    "plt.legend(['SSO','VNQ','VWO','WIP','ITE'])"
   ]
  },
  {
   "cell_type": "markdown",
   "metadata": {},
   "source": [
    "# Maximum Drawdown"
   ]
  },
  {
   "cell_type": "code",
   "execution_count": 39,
   "metadata": {
    "collapsed": true
   },
   "outputs": [
    {
     "name": "stdout",
     "output_type": "stream",
     "text": [
      "25653 : -0.4860677130458163\n",
      "31350 : -0.356347540119651\n",
      "31446 : -0.4216425811712059\n",
      "37383 : -0.18733353680107456\n",
      "43610 : -0.042104253929323376\n"
     ]
    }
   ],
   "source": [
    "pivot_table=pd.pivot_table(df, index='caldt', columns='crsp_fundno', values='dret')\n",
    "pivot_table.head()\n",
    "def max_drawdown(pivot_table, x):\n",
    "   window=2517\n",
    "   pivot_table['cum_ret']= (pivot_table[x]+1).cumprod()\n",
    "   window_max=pivot_table['cum_ret'].rolling(window, min_periods=1).max()\n",
    "   drawdown=pivot_table['cum_ret']/window_max - 1.0\n",
    "   return drawdown.min()\n",
    "for i in pivot_table.columns:\n",
    "   print(i,':',max_drawdown(pivot_table, i))"
   ]
  },
  {
   "cell_type": "markdown",
   "metadata": {},
   "source": [
    "# Rebalancing"
   ]
  },
  {
   "cell_type": "code",
   "execution_count": 119,
   "metadata": {},
   "outputs": [],
   "source": [
    "df_SSO_group = df_SSO.groupby(['month'])[['forCalculations']].prod()\n",
    "df_VNQ_group = df_VNQ.groupby(['month'])[['forCalculations']].prod()\n",
    "df_VWO_group = df_VWO.groupby(['month'])[['forCalculations']].prod()\n",
    "df_ITE_group = df_ITE.groupby(['month'])[['forCalculations']].prod()\n",
    "df_WIP_group = df_WIP.groupby(['month'])[['forCalculations']].prod()"
   ]
  },
  {
   "cell_type": "code",
   "execution_count": 120,
   "metadata": {
    "collapsed": true
   },
   "outputs": [
    {
     "data": {
      "text/html": [
       "<div>\n",
       "<style scoped>\n",
       "    .dataframe tbody tr th:only-of-type {\n",
       "        vertical-align: middle;\n",
       "    }\n",
       "\n",
       "    .dataframe tbody tr th {\n",
       "        vertical-align: top;\n",
       "    }\n",
       "\n",
       "    .dataframe thead th {\n",
       "        text-align: right;\n",
       "    }\n",
       "</style>\n",
       "<table border=\"1\" class=\"dataframe\">\n",
       "  <thead>\n",
       "    <tr style=\"text-align: right;\">\n",
       "      <th></th>\n",
       "      <th>index</th>\n",
       "      <th>ticker</th>\n",
       "      <th>crsp_fundno</th>\n",
       "      <th>dnav</th>\n",
       "      <th>dret</th>\n",
       "      <th>year</th>\n",
       "      <th>month</th>\n",
       "      <th>forCalculations</th>\n",
       "      <th>cumulative returns</th>\n",
       "    </tr>\n",
       "    <tr>\n",
       "      <th>caldt</th>\n",
       "      <th></th>\n",
       "      <th></th>\n",
       "      <th></th>\n",
       "      <th></th>\n",
       "      <th></th>\n",
       "      <th></th>\n",
       "      <th></th>\n",
       "      <th></th>\n",
       "      <th></th>\n",
       "    </tr>\n",
       "  </thead>\n",
       "  <tbody>\n",
       "    <tr>\n",
       "      <th>2008-12-31</th>\n",
       "      <td>1525</td>\n",
       "      <td>SSO</td>\n",
       "      <td>25653</td>\n",
       "      <td>26.50</td>\n",
       "      <td>0.028727</td>\n",
       "      <td>2008</td>\n",
       "      <td>2008-12</td>\n",
       "      <td>1.000000</td>\n",
       "      <td>100.000000</td>\n",
       "    </tr>\n",
       "    <tr>\n",
       "      <th>2009-01-02</th>\n",
       "      <td>1496</td>\n",
       "      <td>SSO</td>\n",
       "      <td>25653</td>\n",
       "      <td>28.17</td>\n",
       "      <td>0.063019</td>\n",
       "      <td>2009</td>\n",
       "      <td>2009-01</td>\n",
       "      <td>1.063019</td>\n",
       "      <td>106.301887</td>\n",
       "    </tr>\n",
       "    <tr>\n",
       "      <th>2009-01-05</th>\n",
       "      <td>1519</td>\n",
       "      <td>SSO</td>\n",
       "      <td>25653</td>\n",
       "      <td>27.92</td>\n",
       "      <td>-0.008875</td>\n",
       "      <td>2009</td>\n",
       "      <td>2009-01</td>\n",
       "      <td>0.991125</td>\n",
       "      <td>105.358491</td>\n",
       "    </tr>\n",
       "    <tr>\n",
       "      <th>2009-01-06</th>\n",
       "      <td>2441</td>\n",
       "      <td>SSO</td>\n",
       "      <td>25653</td>\n",
       "      <td>28.35</td>\n",
       "      <td>0.015401</td>\n",
       "      <td>2009</td>\n",
       "      <td>2009-01</td>\n",
       "      <td>1.015401</td>\n",
       "      <td>106.981132</td>\n",
       "    </tr>\n",
       "    <tr>\n",
       "      <th>2009-01-07</th>\n",
       "      <td>1495</td>\n",
       "      <td>SSO</td>\n",
       "      <td>25653</td>\n",
       "      <td>26.68</td>\n",
       "      <td>-0.058907</td>\n",
       "      <td>2009</td>\n",
       "      <td>2009-01</td>\n",
       "      <td>0.941093</td>\n",
       "      <td>100.679245</td>\n",
       "    </tr>\n",
       "  </tbody>\n",
       "</table>\n",
       "</div>"
      ],
      "text/plain": [
       "            index ticker  crsp_fundno   dnav      dret  year    month  \\\n",
       "caldt                                                                   \n",
       "2008-12-31   1525    SSO        25653  26.50  0.028727  2008  2008-12   \n",
       "2009-01-02   1496    SSO        25653  28.17  0.063019  2009  2009-01   \n",
       "2009-01-05   1519    SSO        25653  27.92 -0.008875  2009  2009-01   \n",
       "2009-01-06   2441    SSO        25653  28.35  0.015401  2009  2009-01   \n",
       "2009-01-07   1495    SSO        25653  26.68 -0.058907  2009  2009-01   \n",
       "\n",
       "            forCalculations  cumulative returns  \n",
       "caldt                                            \n",
       "2008-12-31         1.000000          100.000000  \n",
       "2009-01-02         1.063019          106.301887  \n",
       "2009-01-05         0.991125          105.358491  \n",
       "2009-01-06         1.015401          106.981132  \n",
       "2009-01-07         0.941093          100.679245  "
      ]
     },
     "execution_count": 120,
     "metadata": {},
     "output_type": "execute_result"
    }
   ],
   "source": [
    "df['caldt'] = pd.to_datetime(df['caldt'], format = '%Y%m%d')\n",
    "df['year'] = df['caldt'].dt.to_period('Y').astype(str)\n",
    "df['month'] = df['caldt'].dt.to_period('m').astype(str)"
   ]
  },
  {
   "cell_type": "code",
   "execution_count": 147,
   "metadata": {},
   "outputs": [],
   "source": [
    "df_SSO_group.reset_index(inplace=True)\n",
    "df_SSO_group['new'] = df_SSO_group.index.copy()\n",
    "df_SSO_group['new'].iloc[0] = .3\n",
    "\n",
    "df_VNQ_group.reset_index(inplace=True)\n",
    "df_VNQ_group['new'] = df_VNQ_group.index.copy()\n",
    "df_VNQ_group['new'].iloc[0] = .1\n",
    "\n",
    "df_VWO_group.reset_index(inplace=True)\n",
    "df_VWO_group['new'] = df_VWO_group.index.copy()\n",
    "df_VWO_group['new'].iloc[0] = .25\n",
    "\n",
    "df_ITE_group.reset_index(inplace=True)\n",
    "df_ITE_group['new'] = df_ITE_group.index.copy()\n",
    "df_ITE_group['new'].iloc[0] = .2\n",
    "\n",
    "df_WIP_group.reset_index(inplace=True)\n",
    "df_WIP_group['new'] = df_WIP_group.index.copy()\n",
    "df_WIP_group['new'].iloc[0] = .15"
   ]
  },
  {
   "cell_type": "code",
   "execution_count": 148,
   "metadata": {
    "collapsed": true
   },
   "outputs": [
    {
     "data": {
      "text/html": [
       "<div>\n",
       "<style scoped>\n",
       "    .dataframe tbody tr th:only-of-type {\n",
       "        vertical-align: middle;\n",
       "    }\n",
       "\n",
       "    .dataframe tbody tr th {\n",
       "        vertical-align: top;\n",
       "    }\n",
       "\n",
       "    .dataframe thead th {\n",
       "        text-align: right;\n",
       "    }\n",
       "</style>\n",
       "<table border=\"1\" class=\"dataframe\">\n",
       "  <thead>\n",
       "    <tr style=\"text-align: right;\">\n",
       "      <th></th>\n",
       "      <th>index</th>\n",
       "      <th>month</th>\n",
       "      <th>forCalculations</th>\n",
       "      <th>new2</th>\n",
       "      <th>new</th>\n",
       "    </tr>\n",
       "  </thead>\n",
       "  <tbody>\n",
       "    <tr>\n",
       "      <th>0</th>\n",
       "      <td>0</td>\n",
       "      <td>2008-12</td>\n",
       "      <td>1.000000</td>\n",
       "      <td>0.450000</td>\n",
       "      <td>0.300000</td>\n",
       "    </tr>\n",
       "    <tr>\n",
       "      <th>1</th>\n",
       "      <td>1</td>\n",
       "      <td>2009-01</td>\n",
       "      <td>0.826792</td>\n",
       "      <td>0.372057</td>\n",
       "      <td>0.248038</td>\n",
       "    </tr>\n",
       "    <tr>\n",
       "      <th>2</th>\n",
       "      <td>2</td>\n",
       "      <td>2009-02</td>\n",
       "      <td>0.788681</td>\n",
       "      <td>0.308291</td>\n",
       "      <td>0.212972</td>\n",
       "    </tr>\n",
       "    <tr>\n",
       "      <th>3</th>\n",
       "      <td>3</td>\n",
       "      <td>2009-03</td>\n",
       "      <td>1.151042</td>\n",
       "      <td>0.379902</td>\n",
       "      <td>0.277961</td>\n",
       "    </tr>\n",
       "    <tr>\n",
       "      <th>4</th>\n",
       "      <td>4</td>\n",
       "      <td>2009-04</td>\n",
       "      <td>1.190548</td>\n",
       "      <td>0.423140</td>\n",
       "      <td>0.316115</td>\n",
       "    </tr>\n",
       "  </tbody>\n",
       "</table>\n",
       "</div>"
      ],
      "text/plain": [
       "   index    month  forCalculations      new2       new\n",
       "0      0  2008-12         1.000000  0.450000  0.300000\n",
       "1      1  2009-01         0.826792  0.372057  0.248038\n",
       "2      2  2009-02         0.788681  0.308291  0.212972\n",
       "3      3  2009-03         1.151042  0.379902  0.277961\n",
       "4      4  2009-04         1.190548  0.423140  0.316115"
      ]
     },
     "execution_count": 148,
     "metadata": {},
     "output_type": "execute_result"
    }
   ],
   "source": [
    "# Creating a function which rebalances the portfolio\n",
    "def function5(x):\n",
    "    if x in [.3, .1, .25, .2, .15]:\n",
    "        return .3\n",
    "    else:\n",
    "        x = int(x)\n",
    "        y = df_SSO_group['new'].loc[x-1] + df_VNQ_group['new'].loc[x-1] + df_VWO_group['new'].loc[x-1] + df_ITE_group['new'].loc[x-1] + df_WIP_group['new'].loc[x-1]\n",
    "        newSSO = y*.3\n",
    "        newVNQ = y*.1\n",
    "        newVWO = y*.25\n",
    "        newITE = y*.2\n",
    "        newWIP = y*.15\n",
    "        df_SSO_group['new'].iloc[x] = newSSO*df_SSO_group['forCalculations'].iloc[x]\n",
    "        df_VNQ_group['new'].iloc[x] = newVNQ*df_VNQ_group['forCalculations'].iloc[x]\n",
    "        df_VWO_group['new'].iloc[x] = newVWO*df_VWO_group['forCalculations'].iloc[x]\n",
    "        df_ITE_group['new'].iloc[x] = newITE*df_ITE_group['forCalculations'].iloc[x]\n",
    "        df_WIP_group['new'].iloc[x] = newWIP*df_WIP_group['forCalculations'].iloc[x]\n",
    "        \n",
    "        return newSSO*df_SSO_group['forCalculations'].iloc[x]\n",
    "    \n",
    "df_SSO_group['new'] = df_SSO_group['new'].apply(function5)"
   ]
  },
  {
   "cell_type": "markdown",
   "metadata": {},
   "source": [
    "# Finding daily value of the weighted portfolio (Assuming $1 investment)"
   ]
  },
  {
   "cell_type": "markdown",
   "metadata": {},
   "source": [
    "## Finding daily value by asset class"
   ]
  },
  {
   "cell_type": "code",
   "execution_count": 149,
   "metadata": {
    "scrolled": true
   },
   "outputs": [],
   "source": [
    "df_SSO = df_SSO.reset_index()"
   ]
  },
  {
   "cell_type": "code",
   "execution_count": 150,
   "metadata": {},
   "outputs": [],
   "source": [
    "# Creating a daily value column\n",
    "mergedSSO = df_SSO.merge(df_SSO_group, left_on = 'month', right_on = 'month')\n",
    "mergedSSO['daily value'] = mergedSSO['new'].copy()\n",
    "for i in range(1,len(mergedSSO)):\n",
    "    if mergedSSO['month'].iloc[i] == mergedSSO['month'].iloc[i-1]:\n",
    "        mergedSSO['daily value'].iloc[i] = mergedSSO['daily value'].iloc[i-1]*mergedSSO['forCalculations_x'].iloc[i]\n",
    "    else:\n",
    "        mergedSSO['daily value'].iloc[i] = mergedSSO['forCalculations_x'].iloc[i]*mergedSSO['new'].iloc[i]"
   ]
  },
  {
   "cell_type": "code",
   "execution_count": 46,
   "metadata": {},
   "outputs": [],
   "source": [
    "# Creating a daily value column\n",
    "mergedVNQ = df_VNQ.merge(df_VNQ_group, left_on = 'month', right_on = 'month')\n",
    "mergedVNQ['daily value'] = mergedVNQ['new'].copy()\n",
    "for i in range(1,len(mergedSSO)):\n",
    "    if mergedVNQ['month'].iloc[i] == mergedVNQ['month'].iloc[i-1]:\n",
    "        mergedVNQ['daily value'].iloc[i] = mergedVNQ['daily value'].iloc[i-1]*mergedVNQ['forCalculations_x'].iloc[i]\n",
    "    else:\n",
    "        mergedVNQ['daily value'].iloc[i] = mergedVNQ['forCalculations_x'].iloc[i]*mergedVNQ['new'].iloc[i]"
   ]
  },
  {
   "cell_type": "code",
   "execution_count": 47,
   "metadata": {},
   "outputs": [],
   "source": [
    "# Creating a daily value column\n",
    "mergedITE = df_ITE.merge(df_ITE_group, left_on = 'month', right_on = 'month')\n",
    "mergedITE['daily value'] = mergedITE['new'].copy()\n",
    "for i in range(1,len(mergedSSO)):\n",
    "    if mergedITE['month'].iloc[i] == mergedITE['month'].iloc[i-1]:\n",
    "        mergedITE['daily value'].iloc[i] = mergedITE['daily value'].iloc[i-1]*mergedITE['forCalculations_x'].iloc[i]\n",
    "    else:\n",
    "        mergedITE['daily value'].iloc[i] = mergedITE['forCalculations_x'].iloc[i]*mergedITE['new'].iloc[i]"
   ]
  },
  {
   "cell_type": "code",
   "execution_count": 48,
   "metadata": {},
   "outputs": [],
   "source": [
    "# Creating a daily value column\n",
    "mergedVWO = df_VWO.merge(df_VWO_group, left_on = 'month', right_on = 'month')\n",
    "mergedVWO['daily value'] = mergedVWO['new'].copy()\n",
    "for i in range(1,len(mergedSSO)):\n",
    "    if mergedVWO['month'].iloc[i] == mergedVWO['month'].iloc[i-1]:\n",
    "        mergedVWO['daily value'].iloc[i] = mergedVWO['daily value'].iloc[i-1]*mergedVWO['forCalculations_x'].iloc[i]\n",
    "    else:\n",
    "        mergedVWO['daily value'].iloc[i] = mergedVWO['forCalculations_x'].iloc[i]*mergedVWO['new'].iloc[i]"
   ]
  },
  {
   "cell_type": "code",
   "execution_count": 49,
   "metadata": {},
   "outputs": [],
   "source": [
    "# Creating a daily value column\n",
    "mergedWIP = df_WIP.merge(df_WIP_group, left_on = 'month', right_on = 'month')\n",
    "mergedWIP['daily value'] = mergedWIP['new'].copy()\n",
    "for i in range(1,len(mergedSSO)):\n",
    "    if mergedWIP['month'].iloc[i] == mergedWIP['month'].iloc[i-1]:\n",
    "        mergedWIP['daily value'].iloc[i] = mergedWIP['daily value'].iloc[i-1]*mergedWIP['forCalculations_x'].iloc[i]\n",
    "    else:\n",
    "        mergedWIP['daily value'].iloc[i] = mergedWIP['forCalculations_x'].iloc[i]*mergedWIP['new'].iloc[i]"
   ]
  },
  {
   "cell_type": "markdown",
   "metadata": {},
   "source": [
    "## Summing the values into a total porfolio value and graphing"
   ]
  },
  {
   "cell_type": "code",
   "execution_count": 50,
   "metadata": {},
   "outputs": [],
   "source": [
    "def newFunctionYay(x):\n",
    "    return(mergedVNQ['daily value'].iloc[x] + mergedSSO['daily value'].iloc[x] + mergedITE['daily value'].iloc[x] + mergedWIP['daily value'].iloc[x] + mergedVWO['daily value'].iloc[x])\n",
    "\n",
    "mergedSSO['portfolio value'] = mergedSSO.index.values\n",
    "mergedSSO['portfolio value'] = mergedSSO['portfolio value'].map(newFunctionYay)"
   ]
  },
  {
   "cell_type": "code",
   "execution_count": 51,
   "metadata": {
    "collapsed": true
   },
   "outputs": [
    {
     "data": {
      "text/html": [
       "<div>\n",
       "<style scoped>\n",
       "    .dataframe tbody tr th:only-of-type {\n",
       "        vertical-align: middle;\n",
       "    }\n",
       "\n",
       "    .dataframe tbody tr th {\n",
       "        vertical-align: top;\n",
       "    }\n",
       "\n",
       "    .dataframe thead th {\n",
       "        text-align: right;\n",
       "    }\n",
       "</style>\n",
       "<table border=\"1\" class=\"dataframe\">\n",
       "  <thead>\n",
       "    <tr style=\"text-align: right;\">\n",
       "      <th></th>\n",
       "      <th>caldt</th>\n",
       "      <th>portfolio value</th>\n",
       "    </tr>\n",
       "  </thead>\n",
       "  <tbody>\n",
       "    <tr>\n",
       "      <th>0</th>\n",
       "      <td>2008-12-31</td>\n",
       "      <td>1.000000</td>\n",
       "    </tr>\n",
       "    <tr>\n",
       "      <th>1</th>\n",
       "      <td>2009-01-02</td>\n",
       "      <td>0.922135</td>\n",
       "    </tr>\n",
       "    <tr>\n",
       "      <th>2</th>\n",
       "      <td>2009-01-05</td>\n",
       "      <td>0.921052</td>\n",
       "    </tr>\n",
       "    <tr>\n",
       "      <th>3</th>\n",
       "      <td>2009-01-06</td>\n",
       "      <td>0.932871</td>\n",
       "    </tr>\n",
       "    <tr>\n",
       "      <th>4</th>\n",
       "      <td>2009-01-07</td>\n",
       "      <td>0.904941</td>\n",
       "    </tr>\n",
       "  </tbody>\n",
       "</table>\n",
       "</div>"
      ],
      "text/plain": [
       "       caldt  portfolio value\n",
       "0 2008-12-31         1.000000\n",
       "1 2009-01-02         0.922135\n",
       "2 2009-01-05         0.921052\n",
       "3 2009-01-06         0.932871\n",
       "4 2009-01-07         0.904941"
      ]
     },
     "execution_count": 51,
     "metadata": {},
     "output_type": "execute_result"
    }
   ],
   "source": [
    "df_portfolio = mergedSSO[['caldt','portfolio value']]\n",
    "df_portfolio['caldt'] = pd.to_datetime(df_portfolio['caldt'], format = '%Y%m%d')"
   ]
  },
  {
   "cell_type": "code",
   "execution_count": 177,
   "metadata": {
    "collapsed": true
   },
   "outputs": [
    {
     "data": {
      "text/plain": [
       "Text(0.5, 1.0, 'Weighted Portoflio')"
      ]
     },
     "execution_count": 177,
     "metadata": {},
     "output_type": "execute_result"
    },
    {
     "data": {
      "image/png": "[encoded data removed]",
      "text/plain": [
       "<Figure size 432x288 with 1 Axes>"
      ]
     },
     "metadata": {
      "needs_background": "light"
     },
     "output_type": "display_data"
    }
   ],
   "source": [
    "import matplotlib.pyplot as plt\n",
    "df_portfolio.plot(x = 'caldt', y = 'portfolio value',legend = None)\n",
    "plt.ylabel(\"Value (assuming $1 investment)\")\n",
    "plt.xlabel(\"Date\")\n",
    "plt.title('Weighted Portoflio')"
   ]
  },
  {
   "cell_type": "markdown",
   "metadata": {},
   "source": [
    "# Performance and Risk Metrics"
   ]
  },
  {
   "cell_type": "code",
   "execution_count": 53,
   "metadata": {},
   "outputs": [
    {
     "data": {
      "text/plain": [
       "0.08420775064004404"
      ]
     },
     "execution_count": 53,
     "metadata": {},
     "output_type": "execute_result"
    }
   ],
   "source": [
    "# Annualized returns\n",
    "df_portfolio['forCalculations'] = (df_portfolio['portfolio value'] - df_portfolio['portfolio value'].shift(1))/df_portfolio['portfolio value'].shift(1) + 1\n",
    "cum_returnPort = df_portfolio['forCalculations'].prod()\n",
    "cum_returnPort**(1/10) - 1"
   ]
  },
  {
   "cell_type": "code",
   "execution_count": 54,
   "metadata": {},
   "outputs": [
    {
     "data": {
      "text/plain": [
       "0.2586329345791619"
      ]
     },
     "execution_count": 54,
     "metadata": {},
     "output_type": "execute_result"
    }
   ],
   "source": [
    "# Annualized Standard Deviation\n",
    "df_portfolio['dret'] = df_portfolio['portfolio value'] - df_portfolio['portfolio value'].shift(1)\n",
    "df_portfolio['forCalculations'].std()*math.sqrt(252)"
   ]
  },
  {
   "cell_type": "code",
   "execution_count": 55,
   "metadata": {},
   "outputs": [
    {
     "data": {
      "text/plain": [
       "0.3255878868523215"
      ]
     },
     "execution_count": 55,
     "metadata": {},
     "output_type": "execute_result"
    }
   ],
   "source": [
    "# Sharpe Ratio\n",
    "(cum_returnPort**(1/10) - 1) / (df_portfolio['forCalculations'].std()*math.sqrt(252))"
   ]
  },
  {
   "cell_type": "code",
   "execution_count": 56,
   "metadata": {},
   "outputs": [
    {
     "name": "stdout",
     "output_type": "stream",
     "text": [
      "dret : -0.2544005898544166\n"
     ]
    }
   ],
   "source": [
    "# Maximum Drawdown\n",
    "pivot_table=pd.pivot_table(df, index='caldt', values='dret')\n",
    "pivot_table.head()\n",
    "def max_drawdown(pivot_table, x):\n",
    "   window=2517\n",
    "   pivot_table['cum_ret']= (pivot_table[x]+1).cumprod()\n",
    "   window_max=pivot_table['cum_ret'].rolling(window, min_periods=1).max()\n",
    "   drawdown=pivot_table['cum_ret']/window_max - 1.0\n",
    "   return drawdown.min()\n",
    "for i in pivot_table.columns:\n",
    "   print(i,':',max_drawdown(pivot_table, i))"
   ]
  },
  {
   "cell_type": "markdown",
   "metadata": {},
   "source": [
    "# Optimization"
   ]
  },
  {
   "cell_type": "markdown",
   "metadata": {},
   "source": [
    "### The following code is the same as the code earlier, adapted for the new weights"
   ]
  },
  {
   "cell_type": "code",
   "execution_count": 165,
   "metadata": {},
   "outputs": [
    {
     "name": "stdout",
     "output_type": "stream",
     "text": [
      "{'ITE': 0.26559, 'SSO': 0.45, 'VNQ': 0.28441, 'VWO': 0.0, 'WIP': 0.0}\n",
      "Expected annual return: 12.2%\n",
      "Annual volatility: 22.5%\n",
      "Sharpe Ratio: 0.45\n"
     ]
    },
    {
     "data": {
      "text/plain": [
       "(0.12174322855438818, 0.22480184455135818, 0.45259071942865636)"
      ]
     },
     "execution_count": 165,
     "metadata": {},
     "output_type": "execute_result"
    }
   ],
   "source": [
    "# Finding the optimal portfolio under the restrictions given\n",
    "from pypfopt.efficient_frontier import EfficientFrontier\n",
    "from pypfopt import risk_models\n",
    "from pypfopt import expected_returns\n",
    "\n",
    "mu = expected_returns.mean_historical_return(df3)\n",
    "S = risk_models.sample_cov(df3)\n",
    "ef = EfficientFrontier(mu, S, weight_bounds = (0, .45))\n",
    "raw_weights = ef.max_sharpe()\n",
    "cleaned_weights = ef.clean_weights()\n",
    "print(cleaned_weights)\n",
    "ef.portfolio_performance(verbose=True)"
   ]
  },
  {
   "cell_type": "code",
   "execution_count": 153,
   "metadata": {},
   "outputs": [],
   "source": [
    "df_SSO_group.reset_index(inplace=True)\n",
    "df_SSO_group['new2'] = df_SSO_group.index.copy()\n",
    "df_SSO_group['new2'].iloc[0] = .45\n",
    "\n",
    "df_VNQ_group.reset_index(inplace=True)\n",
    "df_VNQ_group['new2'] = df_VNQ_group.index.copy()\n",
    "df_VNQ_group['new2'].iloc[0] = .28441\n",
    "\n",
    "df_VWO_group.reset_index(inplace=True)\n",
    "df_VWO_group['new2'] = df_VWO_group.index.copy()\n",
    "df_VWO_group['new2'].iloc[0] = 0\n",
    "\n",
    "df_ITE_group.reset_index(inplace=True)\n",
    "df_ITE_group['new2'] = df_ITE_group.index.copy()\n",
    "df_ITE_group['new2'].iloc[0] = .26559\n",
    "\n",
    "df_WIP_group.reset_index(inplace=True)\n",
    "df_WIP_group['new2'] = df_WIP_group.index.copy()\n",
    "df_WIP_group['new2'].iloc[0] = 0"
   ]
  },
  {
   "cell_type": "code",
   "execution_count": 154,
   "metadata": {
    "collapsed": true
   },
   "outputs": [
    {
     "data": {
      "text/html": [
       "<div>\n",
       "<style scoped>\n",
       "    .dataframe tbody tr th:only-of-type {\n",
       "        vertical-align: middle;\n",
       "    }\n",
       "\n",
       "    .dataframe tbody tr th {\n",
       "        vertical-align: top;\n",
       "    }\n",
       "\n",
       "    .dataframe thead th {\n",
       "        text-align: right;\n",
       "    }\n",
       "</style>\n",
       "<table border=\"1\" class=\"dataframe\">\n",
       "  <thead>\n",
       "    <tr style=\"text-align: right;\">\n",
       "      <th></th>\n",
       "      <th>level_0</th>\n",
       "      <th>index</th>\n",
       "      <th>month</th>\n",
       "      <th>forCalculations</th>\n",
       "      <th>new2</th>\n",
       "      <th>new</th>\n",
       "    </tr>\n",
       "  </thead>\n",
       "  <tbody>\n",
       "    <tr>\n",
       "      <th>0</th>\n",
       "      <td>0</td>\n",
       "      <td>0</td>\n",
       "      <td>2008-12</td>\n",
       "      <td>1.000000</td>\n",
       "      <td>0.450000</td>\n",
       "      <td>0.300000</td>\n",
       "    </tr>\n",
       "    <tr>\n",
       "      <th>1</th>\n",
       "      <td>1</td>\n",
       "      <td>1</td>\n",
       "      <td>2009-01</td>\n",
       "      <td>0.826792</td>\n",
       "      <td>0.372057</td>\n",
       "      <td>0.248038</td>\n",
       "    </tr>\n",
       "    <tr>\n",
       "      <th>2</th>\n",
       "      <td>2</td>\n",
       "      <td>2</td>\n",
       "      <td>2009-02</td>\n",
       "      <td>0.788681</td>\n",
       "      <td>0.308291</td>\n",
       "      <td>0.212972</td>\n",
       "    </tr>\n",
       "    <tr>\n",
       "      <th>3</th>\n",
       "      <td>3</td>\n",
       "      <td>3</td>\n",
       "      <td>2009-03</td>\n",
       "      <td>1.151042</td>\n",
       "      <td>0.379902</td>\n",
       "      <td>0.277961</td>\n",
       "    </tr>\n",
       "    <tr>\n",
       "      <th>4</th>\n",
       "      <td>4</td>\n",
       "      <td>4</td>\n",
       "      <td>2009-04</td>\n",
       "      <td>1.190548</td>\n",
       "      <td>0.423140</td>\n",
       "      <td>0.316115</td>\n",
       "    </tr>\n",
       "  </tbody>\n",
       "</table>\n",
       "</div>"
      ],
      "text/plain": [
       "   level_0  index    month  forCalculations      new2       new\n",
       "0        0      0  2008-12         1.000000  0.450000  0.300000\n",
       "1        1      1  2009-01         0.826792  0.372057  0.248038\n",
       "2        2      2  2009-02         0.788681  0.308291  0.212972\n",
       "3        3      3  2009-03         1.151042  0.379902  0.277961\n",
       "4        4      4  2009-04         1.190548  0.423140  0.316115"
      ]
     },
     "execution_count": 154,
     "metadata": {},
     "output_type": "execute_result"
    }
   ],
   "source": [
    "def function6(x):\n",
    "    if x in [.45, .26559, .28441]:\n",
    "        return .45\n",
    "    else:\n",
    "        x = int(x)\n",
    "        y = df_SSO_group['new2'].loc[x-1] + df_VNQ_group['new2'].loc[x-1] + df_VWO_group['new2'].loc[x-1] + df_ITE_group['new2'].loc[x-1] + df_WIP_group['new2'].loc[x-1]\n",
    "        newSSO = y*.45\n",
    "        newVNQ = y*.28441\n",
    "        newVWO = y*0\n",
    "        newITE = y*.26559\n",
    "        newWIP = y*0\n",
    "        df_SSO_group['new2'].iloc[x] = newSSO*df_SSO_group['forCalculations'].iloc[x]\n",
    "        df_VNQ_group['new2'].iloc[x] = newVNQ*df_VNQ_group['forCalculations'].iloc[x]\n",
    "        df_VWO_group['new2'].iloc[x] = newVWO*df_VWO_group['forCalculations'].iloc[x]\n",
    "        df_ITE_group['new2'].iloc[x] = newITE*df_ITE_group['forCalculations'].iloc[x]\n",
    "        df_WIP_group['new2'].iloc[x] = newWIP*df_WIP_group['forCalculations'].iloc[x]\n",
    "        \n",
    "        return newSSO*df_SSO_group['forCalculations'].iloc[x]\n",
    "    \n",
    "df_SSO_group['new2'] = df_SSO_group['new2'].apply(function6)\n",
    "df_SSO_group.head()"
   ]
  },
  {
   "cell_type": "code",
   "execution_count": 157,
   "metadata": {},
   "outputs": [],
   "source": [
    "mergedSSO2 = df_SSO.merge(df_SSO_group, left_on = 'month', right_on = 'month')\n",
    "mergedSSO2['daily value2'] = mergedSSO2['new2'].copy()\n",
    "for i in range(1,len(mergedSSO2)):\n",
    "    if mergedSSO2['month'].iloc[i] == mergedSSO2['month'].iloc[i-1]:\n",
    "        mergedSSO2['daily value2'].iloc[i] = mergedSSO2['daily value2'].iloc[i-1]*mergedSSO2['forCalculations_x'].iloc[i]\n",
    "    else:\n",
    "        mergedSSO2['daily value2'].iloc[i] = mergedSSO2['forCalculations_x'].iloc[i]*mergedSSO2['new2'].iloc[i]"
   ]
  },
  {
   "cell_type": "code",
   "execution_count": 128,
   "metadata": {},
   "outputs": [],
   "source": [
    "mergedITE2 = df_ITE.merge(df_ITE_group, left_on = 'month', right_on = 'month')\n",
    "mergedITE2['daily value2'] = mergedITE2['new2'].copy()\n",
    "for i in range(1,len(mergedSSO2)):\n",
    "    if mergedITE2['month'].iloc[i] == mergedITE2['month'].iloc[i-1]:\n",
    "        mergedITE2['daily value2'].iloc[i] = mergedITE2['daily value2'].iloc[i-1]*mergedITE2['forCalculations_x'].iloc[i]\n",
    "    else:\n",
    "        mergedITE2['daily value2'].iloc[i] = mergedITE2['forCalculations_x'].iloc[i]*mergedITE2['new2'].iloc[i]"
   ]
  },
  {
   "cell_type": "code",
   "execution_count": 129,
   "metadata": {},
   "outputs": [],
   "source": [
    "mergedVNQ2 = df_VNQ.merge(df_VNQ_group, left_on = 'month', right_on = 'month')\n",
    "mergedVNQ2['daily value2'] = mergedVNQ2['new2'].copy()\n",
    "for i in range(1,len(mergedSSO2)):\n",
    "    if mergedVNQ2['month'].iloc[i] == mergedVNQ['month'].iloc[i-1]:\n",
    "        mergedVNQ2['daily value2'].iloc[i] = mergedVNQ2['daily value2'].iloc[i-1]*mergedVNQ2['forCalculations_x'].iloc[i]\n",
    "    else:\n",
    "        mergedVNQ2['daily value2'].iloc[i] = mergedVNQ2['forCalculations_x'].iloc[i]*mergedVNQ2['new2'].iloc[i]"
   ]
  },
  {
   "cell_type": "code",
   "execution_count": 160,
   "metadata": {},
   "outputs": [],
   "source": [
    "def newFunctionYay2(x):\n",
    "    return(mergedVNQ2['daily value2'].iloc[x] + mergedSSO2['daily value2'].iloc[x] + mergedITE2['daily value2'].iloc[x])\n",
    "\n",
    "mergedSSO2['portfolio value2'] = mergedSSO2.index.values\n",
    "mergedSSO2['portfolio value2'] = mergedSSO2['portfolio value2'].map(newFunctionYay2)"
   ]
  },
  {
   "cell_type": "code",
   "execution_count": 161,
   "metadata": {},
   "outputs": [
    {
     "data": {
      "text/html": [
       "<div>\n",
       "<style scoped>\n",
       "    .dataframe tbody tr th:only-of-type {\n",
       "        vertical-align: middle;\n",
       "    }\n",
       "\n",
       "    .dataframe tbody tr th {\n",
       "        vertical-align: top;\n",
       "    }\n",
       "\n",
       "    .dataframe thead th {\n",
       "        text-align: right;\n",
       "    }\n",
       "</style>\n",
       "<table border=\"1\" class=\"dataframe\">\n",
       "  <thead>\n",
       "    <tr style=\"text-align: right;\">\n",
       "      <th></th>\n",
       "      <th>level_0_x</th>\n",
       "      <th>caldt</th>\n",
       "      <th>index_x</th>\n",
       "      <th>ticker</th>\n",
       "      <th>crsp_fundno</th>\n",
       "      <th>dnav</th>\n",
       "      <th>dret</th>\n",
       "      <th>year</th>\n",
       "      <th>month</th>\n",
       "      <th>forCalculations_x</th>\n",
       "      <th>cumulative returns</th>\n",
       "      <th>level_0_y</th>\n",
       "      <th>index_y</th>\n",
       "      <th>forCalculations_y</th>\n",
       "      <th>new2</th>\n",
       "      <th>new</th>\n",
       "      <th>daily value2</th>\n",
       "      <th>portfolio value2</th>\n",
       "    </tr>\n",
       "  </thead>\n",
       "  <tbody>\n",
       "    <tr>\n",
       "      <th>0</th>\n",
       "      <td>0</td>\n",
       "      <td>2008-12-31</td>\n",
       "      <td>1525</td>\n",
       "      <td>SSO</td>\n",
       "      <td>25653</td>\n",
       "      <td>26.50</td>\n",
       "      <td>0.028727</td>\n",
       "      <td>2008</td>\n",
       "      <td>2008-12</td>\n",
       "      <td>1.000000</td>\n",
       "      <td>100.000000</td>\n",
       "      <td>0</td>\n",
       "      <td>0</td>\n",
       "      <td>1.000000</td>\n",
       "      <td>0.450000</td>\n",
       "      <td>0.300000</td>\n",
       "      <td>0.450000</td>\n",
       "      <td>1.000000</td>\n",
       "    </tr>\n",
       "    <tr>\n",
       "      <th>1</th>\n",
       "      <td>1</td>\n",
       "      <td>2009-01-02</td>\n",
       "      <td>1496</td>\n",
       "      <td>SSO</td>\n",
       "      <td>25653</td>\n",
       "      <td>28.17</td>\n",
       "      <td>0.063019</td>\n",
       "      <td>2009</td>\n",
       "      <td>2009-01</td>\n",
       "      <td>1.063019</td>\n",
       "      <td>106.301887</td>\n",
       "      <td>1</td>\n",
       "      <td>1</td>\n",
       "      <td>0.826792</td>\n",
       "      <td>0.372057</td>\n",
       "      <td>0.248038</td>\n",
       "      <td>0.395503</td>\n",
       "      <td>0.883069</td>\n",
       "    </tr>\n",
       "    <tr>\n",
       "      <th>2</th>\n",
       "      <td>2</td>\n",
       "      <td>2009-01-05</td>\n",
       "      <td>1519</td>\n",
       "      <td>SSO</td>\n",
       "      <td>25653</td>\n",
       "      <td>27.92</td>\n",
       "      <td>-0.008875</td>\n",
       "      <td>2009</td>\n",
       "      <td>2009-01</td>\n",
       "      <td>0.991125</td>\n",
       "      <td>105.358491</td>\n",
       "      <td>1</td>\n",
       "      <td>1</td>\n",
       "      <td>0.826792</td>\n",
       "      <td>0.372057</td>\n",
       "      <td>0.248038</td>\n",
       "      <td>0.391993</td>\n",
       "      <td>0.874395</td>\n",
       "    </tr>\n",
       "    <tr>\n",
       "      <th>3</th>\n",
       "      <td>3</td>\n",
       "      <td>2009-01-06</td>\n",
       "      <td>2441</td>\n",
       "      <td>SSO</td>\n",
       "      <td>25653</td>\n",
       "      <td>28.35</td>\n",
       "      <td>0.015401</td>\n",
       "      <td>2009</td>\n",
       "      <td>2009-01</td>\n",
       "      <td>1.015401</td>\n",
       "      <td>106.981132</td>\n",
       "      <td>1</td>\n",
       "      <td>1</td>\n",
       "      <td>0.826792</td>\n",
       "      <td>0.372057</td>\n",
       "      <td>0.248038</td>\n",
       "      <td>0.398030</td>\n",
       "      <td>0.892948</td>\n",
       "    </tr>\n",
       "    <tr>\n",
       "      <th>4</th>\n",
       "      <td>4</td>\n",
       "      <td>2009-01-07</td>\n",
       "      <td>1495</td>\n",
       "      <td>SSO</td>\n",
       "      <td>25653</td>\n",
       "      <td>26.68</td>\n",
       "      <td>-0.058907</td>\n",
       "      <td>2009</td>\n",
       "      <td>2009-01</td>\n",
       "      <td>0.941093</td>\n",
       "      <td>100.679245</td>\n",
       "      <td>1</td>\n",
       "      <td>1</td>\n",
       "      <td>0.826792</td>\n",
       "      <td>0.372057</td>\n",
       "      <td>0.248038</td>\n",
       "      <td>0.374584</td>\n",
       "      <td>0.860654</td>\n",
       "    </tr>\n",
       "  </tbody>\n",
       "</table>\n",
       "</div>"
      ],
      "text/plain": [
       "   level_0_x      caldt  index_x ticker  crsp_fundno   dnav      dret  year  \\\n",
       "0          0 2008-12-31     1525    SSO        25653  26.50  0.028727  2008   \n",
       "1          1 2009-01-02     1496    SSO        25653  28.17  0.063019  2009   \n",
       "2          2 2009-01-05     1519    SSO        25653  27.92 -0.008875  2009   \n",
       "3          3 2009-01-06     2441    SSO        25653  28.35  0.015401  2009   \n",
       "4          4 2009-01-07     1495    SSO        25653  26.68 -0.058907  2009   \n",
       "\n",
       "     month  forCalculations_x  cumulative returns  level_0_y  index_y  \\\n",
       "0  2008-12           1.000000          100.000000          0        0   \n",
       "1  2009-01           1.063019          106.301887          1        1   \n",
       "2  2009-01           0.991125          105.358491          1        1   \n",
       "3  2009-01           1.015401          106.981132          1        1   \n",
       "4  2009-01           0.941093          100.679245          1        1   \n",
       "\n",
       "   forCalculations_y      new2       new  daily value2  portfolio value2  \n",
       "0           1.000000  0.450000  0.300000      0.450000          1.000000  \n",
       "1           0.826792  0.372057  0.248038      0.395503          0.883069  \n",
       "2           0.826792  0.372057  0.248038      0.391993          0.874395  \n",
       "3           0.826792  0.372057  0.248038      0.398030          0.892948  \n",
       "4           0.826792  0.372057  0.248038      0.374584          0.860654  "
      ]
     },
     "execution_count": 161,
     "metadata": {},
     "output_type": "execute_result"
    }
   ],
   "source": [
    "df_portfolio2 = mergedSSO2[['caldt','portfolio value2']]\n",
    "df_portfolio2['caldt'] = pd.to_datetime(df_portfolio2['caldt'], format = '%Y%m%d')\n",
    "mergedSSO2.head()"
   ]
  },
  {
   "cell_type": "code",
   "execution_count": 178,
   "metadata": {},
   "outputs": [
    {
     "data": {
      "text/plain": [
       "Text(0.5, 1.0, 'Optimal Portoflio')"
      ]
     },
     "execution_count": 178,
     "metadata": {},
     "output_type": "execute_result"
    },
    {
     "data": {
      "image/png": "[encoded data removed]",
      "text/plain": [
       "<Figure size 432x288 with 1 Axes>"
      ]
     },
     "metadata": {
      "needs_background": "light"
     },
     "output_type": "display_data"
    }
   ],
   "source": [
    "df_portfolio2.plot(x = 'caldt', y = 'portfolio value2',legend = None)\n",
    "plt.ylabel(\"Value (assuming $1 investment)\")\n",
    "plt.xlabel(\"Date\")\n",
    "plt.title('Optimal Portoflio')"
   ]
  }
 ],
 "metadata": {
  "kernelspec": {
   "display_name": "Python 2",
   "language": "python",
   "name": "python2"
  },
  "language_info": {
   "codemirror_mode": {
    "name": "ipython",
    "version": 2
   },
   "file_extension": ".py",
   "mimetype": "text/x-python",
   "name": "python",
   "nbconvert_exporter": "python",
   "pygments_lexer": "ipython2",
   "version": "2.7.16"
  }
 },
 "nbformat": 4,
 "nbformat_minor": 2
}
